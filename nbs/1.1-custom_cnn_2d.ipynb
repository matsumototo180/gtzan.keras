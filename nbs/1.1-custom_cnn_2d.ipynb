{
 "cells": [
  {
   "cell_type": "code",
   "execution_count": 1,
   "metadata": {},
   "outputs": [],
   "source": [
    "import os\n",
    "import h5py\n",
    "import librosa\n",
    "import itertools\n",
    "from copy import copy\n",
    "import numpy as np\n",
    "import matplotlib.pyplot as plt\n",
    "from collections import OrderedDict\n",
    "from sklearn.model_selection import train_test_split\n",
    "from sklearn.metrics import confusion_matrix"
   ]
  },
  {
   "cell_type": "code",
   "execution_count": 2,
   "metadata": {},
   "outputs": [],
   "source": [
    "import tensorflow as tf\n",
    "from tensorflow.keras.utils import to_categorical\n",
    "from tensorflow.keras.models import Model\n",
    "from tensorflow.keras.layers import Input\n",
    "from tensorflow.keras.models import Sequential\n",
    "from tensorflow.keras.layers import Add\n",
    "from tensorflow.keras.layers import Dense\n",
    "from tensorflow.keras.layers import Activation\n",
    "from tensorflow.keras.layers import PReLU\n",
    "from tensorflow.keras.layers import Conv2D\n",
    "from tensorflow.keras.layers import MaxPooling2D\n",
    "from tensorflow.keras.layers import AveragePooling2D\n",
    "from tensorflow.keras.layers import GlobalAveragePooling2D\n",
    "from tensorflow.keras.layers import GlobalMaxPooling2D\n",
    "from tensorflow.keras.layers import Dropout\n",
    "from tensorflow.keras.layers import Flatten\n",
    "from tensorflow.keras.layers import BatchNormalization\n",
    "from tensorflow.keras.callbacks import ReduceLROnPlateau"
   ]
  },
  {
   "cell_type": "code",
   "execution_count": 3,
   "metadata": {},
   "outputs": [],
   "source": [
    "# For reproducibility purposes\n",
    "np.random.seed(42)"
   ]
  },
  {
   "cell_type": "markdown",
   "metadata": {},
   "source": [
    "# Read the data\n",
    "\n",
    "> Helper functions to assist the process to read songs, split then and return an array of spectrograms/melspectrograms"
   ]
  },
  {
   "cell_type": "code",
   "execution_count": 4,
   "metadata": {},
   "outputs": [],
   "source": [
    "\"\"\"\n",
    "@description: Method to split a song into multiple songs using overlapping windows\n",
    "\"\"\"\n",
    "def splitsongs(X, y, window = 0.05, overlap = 0.5):\n",
    "    # Empty lists to hold our results\n",
    "    temp_X = []\n",
    "    temp_y = []\n",
    "\n",
    "    # Get the input song array size\n",
    "    xshape = X.shape[0]\n",
    "    chunk = int(xshape*window)\n",
    "    offset = int(chunk*(1.-overlap))\n",
    "    \n",
    "    # Split the song and create new ones on windows\n",
    "    spsong = [X[i:i+chunk] for i in range(0, xshape - chunk + offset, offset)]\n",
    "    for s in spsong:\n",
    "        if s.shape[0] != chunk:\n",
    "            continue\n",
    "\n",
    "        temp_X.append(s)\n",
    "        temp_y.append(y)\n",
    "\n",
    "    return np.array(temp_X), np.array(temp_y)"
   ]
  },
  {
   "cell_type": "code",
   "execution_count": 5,
   "metadata": {},
   "outputs": [],
   "source": [
    "\"\"\"\n",
    "@description: Method to convert a list of songs to a np array of melspectrograms\n",
    "\"\"\"\n",
    "def to_melspectrogram(songs, n_fft=1024, hop_length=256):\n",
    "    # Transformation function\n",
    "    melspec = lambda x: librosa.feature.melspectrogram(x, n_fft=n_fft,\n",
    "        hop_length=hop_length, n_mels=128)[:,:,np.newaxis]\n",
    "\n",
    "    # map transformation of input songs to melspectrogram using log-scale\n",
    "    tsongs = map(melspec, songs)\n",
    "    # np.array([librosa.power_to_db(s, ref=np.max) for s in list(tsongs)])\n",
    "    return np.array(list(tsongs))"
   ]
  },
  {
   "cell_type": "code",
   "execution_count": 6,
   "metadata": {},
   "outputs": [],
   "source": [
    "def split_convert(X, y):\n",
    "    arr_specs, arr_genres = [], []\n",
    "    \n",
    "    # Convert to spectrograms and split into small windows\n",
    "    for fn, genre in zip(X, y):\n",
    "        signal, sr = librosa.load(fn)\n",
    "        signal = signal[:song_samples]\n",
    "\n",
    "        # Convert to dataset of spectograms/melspectograms\n",
    "        signals, y = splitsongs(signal, genre)\n",
    "\n",
    "        # Convert to \"spec\" representation\n",
    "        specs = to_melspectrogram(signals)\n",
    "\n",
    "        # Save files\n",
    "        arr_genres.extend(y)\n",
    "        arr_specs.extend(specs)\n",
    "    \n",
    "    return np.array(arr_specs), to_categorical(arr_genres)"
   ]
  },
  {
   "cell_type": "code",
   "execution_count": 7,
   "metadata": {},
   "outputs": [],
   "source": [
    "def read_data(src_dir, genres, song_samples):    \n",
    "    # Empty array of dicts with the processed features from all files\n",
    "    arr_fn = []\n",
    "    arr_genres = []\n",
    "\n",
    "    # Get file list from the folders\n",
    "    for x,_ in genres.items():\n",
    "        folder = src_dir + x\n",
    "        for root, subdirs, files in os.walk(folder):\n",
    "            for file in files:\n",
    "                file_name = folder + \"/\" + file\n",
    "\n",
    "                # Save the file name and the genre\n",
    "                arr_fn.append(file_name)\n",
    "                arr_genres.append(genres[x])\n",
    "    \n",
    "    # Split into train and test\n",
    "    X_train, X_test, y_train, y_test = train_test_split(\n",
    "        arr_fn, arr_genres, test_size=0.3, random_state=42, stratify=arr_genres\n",
    "    )\n",
    "    \n",
    "    # Split into small segments and convert to spectrogram\n",
    "    X_train, y_train = split_convert(X_train, y_train)\n",
    "    X_test, y_test = split_convert(X_test, y_test)\n",
    "\n",
    "    return X_train, X_test, y_train, y_test"
   ]
  },
  {
   "cell_type": "code",
   "execution_count": 8,
   "metadata": {},
   "outputs": [],
   "source": [
    "# GTZAN\n",
    "# Parameters\n",
    "# gtzan_dir = '../data/genres/'\n",
    "# song_samples = 660000\n",
    "# genres = {'metal': 0, 'disco': 1, 'classical': 2, 'hiphop': 3, 'jazz': 4, \n",
    "#           'country': 5, 'pop': 6, 'blues': 7, 'reggae': 8, 'rock': 9}\n",
    "# genres = {'rock': 0, 'hiphop': 1}\n",
    "\n",
    "# FMA\n",
    "# Parameters\n",
    "gtzan_dir = '/home/p2p/Documents/Datasets/FMA/fma_small_separated/'\n",
    "song_samples = 660000\n",
    "# genres = {'Rock': 0, 'Pop': 1, 'International': 2, 'Instrumental': 3, 'Hip-Hop': 4, \n",
    "#           'Folk': 5, 'Experimental': 6, 'Electronic': 7}\n",
    "    genres = {'Rock': 0, 'Hip-Hop': 1} \n",
    "\n",
    "# Read the data\n",
    "X_train, X_test, y_train, y_test = read_data(gtzan_dir, genres, song_samples)"
   ]
  },
  {
   "cell_type": "code",
   "execution_count": 9,
   "metadata": {},
   "outputs": [
    {
     "name": "stdout",
     "output_type": "stream",
     "text": [
      "(54405, 128, 129, 1) (23361, 128, 129, 1) (54405, 2) (23361, 2)\n"
     ]
    }
   ],
   "source": [
    "print(X_train.shape, X_test.shape, y_train.shape, y_test.shape)"
   ]
  },
  {
   "cell_type": "code",
   "execution_count": 10,
   "metadata": {},
   "outputs": [
    {
     "data": {
      "image/png": "[encoded data removed]",
      "text/plain": [
       "<Figure size 432x288 with 1 Axes>"
      ]
     },
     "metadata": {
      "needs_background": "light"
     },
     "output_type": "display_data"
    }
   ],
   "source": [
    "# Histogram for train and test \n",
    "values, count = np.unique(np.argmax(y_train, axis=1), return_counts=True)\n",
    "plt.bar(values, count)\n",
    "\n",
    "values, count = np.unique(np.argmax(y_test, axis=1), return_counts=True)\n",
    "plt.bar(values, count)\n",
    "plt.show()"
   ]
  },
  {
   "cell_type": "markdown",
   "metadata": {},
   "source": [
    "# GTZAN Melspectrogram Generator"
   ]
  },
  {
   "cell_type": "code",
   "execution_count": 11,
   "metadata": {},
   "outputs": [],
   "source": [
    "from tensorflow.keras.utils import Sequence\n",
    "\n",
    "class GTZANGenerator(Sequence):\n",
    "    def __init__(self, X, y, batch_size=64, is_test = False):\n",
    "        self.X = X\n",
    "        self.y = y\n",
    "        self.batch_size = batch_size\n",
    "        self.is_test = is_test\n",
    "    \n",
    "    def __len__(self):\n",
    "        return int(np.ceil(len(self.X)/self.batch_size))\n",
    "    \n",
    "    def __getitem__(self, index):\n",
    "        # Get batch indexes\n",
    "        signals = self.X[index*self.batch_size:(index+1)*self.batch_size]\n",
    "\n",
    "        # Apply data augmentation\n",
    "        if not self.is_test:\n",
    "            signals = self.__augment(signals)\n",
    "        return signals, self.y[index*self.batch_size:(index+1)*self.batch_size]\n",
    "    \n",
    "    def __augment(self, signals, hor_flip = 0.5, random_cutout = 0.5):\n",
    "        spectrograms =  []\n",
    "        for s in signals:\n",
    "            signal = copy(s)\n",
    "            \n",
    "            # Perform horizontal flip\n",
    "            if np.random.rand() < hor_flip:\n",
    "                signal = np.flip(signal, 1)\n",
    "\n",
    "            # Perform random cutoout of some frequency/time\n",
    "            if np.random.rand() < random_cutout:\n",
    "                lines = np.random.randint(signal.shape[0], size=3)\n",
    "                cols = np.random.randint(signal.shape[0], size=4)\n",
    "                signal[lines, :, :] = -80 # dB\n",
    "                signal[:, cols, :] = -80 # dB\n",
    "\n",
    "            spectrograms.append(signal)\n",
    "        return np.array(spectrograms)\n",
    "    \n",
    "    def on_epoch_end(self):\n",
    "        self.indexes = np.arange(len(self.X))\n",
    "        np.random.shuffle(self.indexes)\n",
    "        return None"
   ]
  },
  {
   "cell_type": "markdown",
   "metadata": {},
   "source": [
    "# Custom CNN (Melspectrogram version)"
   ]
  },
  {
   "cell_type": "code",
   "execution_count": 12,
   "metadata": {},
   "outputs": [],
   "source": [
    "def conv_block(x, n_filters, pool_size=(2, 2)):\n",
    "    x = Conv2D(n_filters, (3, 3), strides=(1, 1), padding='same')(x)\n",
    "    x = Activation('relu')(x)\n",
    "    x = MaxPooling2D(pool_size=pool_size, strides=pool_size)(x)\n",
    "    x = Dropout(0.25)(x)\n",
    "    return x"
   ]
  },
  {
   "cell_type": "code",
   "execution_count": 13,
   "metadata": {},
   "outputs": [],
   "source": [
    "# Model Definition\n",
    "def create_model(input_shape, num_genres):\n",
    "    inpt = Input(shape=input_shape)\n",
    "    x = conv_block(inpt, 16)\n",
    "    x = conv_block(x, 32)\n",
    "    x = conv_block(x, 64)\n",
    "    x = conv_block(x, 128)\n",
    "    x = conv_block(x, 256)\n",
    "    \n",
    "    # Global Pooling and MLP\n",
    "    x = Flatten()(x)\n",
    "    x = Dropout(0.5)(x)\n",
    "    x = Dense(512, activation='relu', \n",
    "              kernel_regularizer=tf.keras.regularizers.l2(0.02))(x)\n",
    "    x = Dropout(0.25)(x)\n",
    "    predictions = Dense(num_genres, \n",
    "                        activation='softmax', \n",
    "                        kernel_regularizer=tf.keras.regularizers.l2(0.02))(x)\n",
    "    \n",
    "    model = Model(inputs=inpt, outputs=predictions)\n",
    "    return model"
   ]
  },
  {
   "cell_type": "code",
   "execution_count": 14,
   "metadata": {},
   "outputs": [],
   "source": [
    "model = create_model(X_train[0].shape, 2)"
   ]
  },
  {
   "cell_type": "code",
   "execution_count": 15,
   "metadata": {},
   "outputs": [
    {
     "name": "stdout",
     "output_type": "stream",
     "text": [
      "Model: \"functional_1\"\n",
      "_________________________________________________________________\n",
      "Layer (type)                 Output Shape              Param #   \n",
      "=================================================================\n",
      "input_1 (InputLayer)         [(None, 128, 129, 1)]     0         \n",
      "_________________________________________________________________\n",
      "conv2d (Conv2D)              (None, 128, 129, 16)      160       \n",
      "_________________________________________________________________\n",
      "activation (Activation)      (None, 128, 129, 16)      0         \n",
      "_________________________________________________________________\n",
      "max_pooling2d (MaxPooling2D) (None, 64, 64, 16)        0         \n",
      "_________________________________________________________________\n",
      "dropout (Dropout)            (None, 64, 64, 16)        0         \n",
      "_________________________________________________________________\n",
      "conv2d_1 (Conv2D)            (None, 64, 64, 32)        4640      \n",
      "_________________________________________________________________\n",
      "activation_1 (Activation)    (None, 64, 64, 32)        0         \n",
      "_________________________________________________________________\n",
      "max_pooling2d_1 (MaxPooling2 (None, 32, 32, 32)        0         \n",
      "_________________________________________________________________\n",
      "dropout_1 (Dropout)          (None, 32, 32, 32)        0         \n",
      "_________________________________________________________________\n",
      "conv2d_2 (Conv2D)            (None, 32, 32, 64)        18496     \n",
      "_________________________________________________________________\n",
      "activation_2 (Activation)    (None, 32, 32, 64)        0         \n",
      "_________________________________________________________________\n",
      "max_pooling2d_2 (MaxPooling2 (None, 16, 16, 64)        0         \n",
      "_________________________________________________________________\n",
      "dropout_2 (Dropout)          (None, 16, 16, 64)        0         \n",
      "_________________________________________________________________\n",
      "conv2d_3 (Conv2D)            (None, 16, 16, 128)       73856     \n",
      "_________________________________________________________________\n",
      "activation_3 (Activation)    (None, 16, 16, 128)       0         \n",
      "_________________________________________________________________\n",
      "max_pooling2d_3 (MaxPooling2 (None, 8, 8, 128)         0         \n",
      "_________________________________________________________________\n",
      "dropout_3 (Dropout)          (None, 8, 8, 128)         0         \n",
      "_________________________________________________________________\n",
      "conv2d_4 (Conv2D)            (None, 8, 8, 256)         295168    \n",
      "_________________________________________________________________\n",
      "activation_4 (Activation)    (None, 8, 8, 256)         0         \n",
      "_________________________________________________________________\n",
      "max_pooling2d_4 (MaxPooling2 (None, 4, 4, 256)         0         \n",
      "_________________________________________________________________\n",
      "dropout_4 (Dropout)          (None, 4, 4, 256)         0         \n",
      "_________________________________________________________________\n",
      "flatten (Flatten)            (None, 4096)              0         \n",
      "_________________________________________________________________\n",
      "dropout_5 (Dropout)          (None, 4096)              0         \n",
      "_________________________________________________________________\n",
      "dense (Dense)                (None, 512)               2097664   \n",
      "_________________________________________________________________\n",
      "dropout_6 (Dropout)          (None, 512)               0         \n",
      "_________________________________________________________________\n",
      "dense_1 (Dense)              (None, 2)                 1026      \n",
      "=================================================================\n",
      "Total params: 2,491,010\n",
      "Trainable params: 2,491,010\n",
      "Non-trainable params: 0\n",
      "_________________________________________________________________\n"
     ]
    }
   ],
   "source": [
    "model.summary()"
   ]
  },
  {
   "cell_type": "markdown",
   "metadata": {},
   "source": [
    "### Loss function"
   ]
  },
  {
   "cell_type": "code",
   "execution_count": 16,
   "metadata": {},
   "outputs": [],
   "source": [
    "model.compile(loss=tf.keras.losses.categorical_crossentropy,\n",
    "              optimizer=tf.keras.optimizers.Adam(),\n",
    "              metrics=['accuracy'])"
   ]
  },
  {
   "cell_type": "code",
   "execution_count": 17,
   "metadata": {},
   "outputs": [],
   "source": [
    "reduceLROnPlat = ReduceLROnPlateau(\n",
    "    monitor='val_loss', \n",
    "    factor=0.95,\n",
    "    patience=3,\n",
    "    verbose=1,\n",
    "    mode='min',\n",
    "    min_delta=0.0001,\n",
    "    cooldown=2,\n",
    "    min_lr=1e-5\n",
    ")"
   ]
  },
  {
   "cell_type": "code",
   "execution_count": 18,
   "metadata": {},
   "outputs": [],
   "source": [
    "# Generators\n",
    "batch_size = 128\n",
    "train_generator = GTZANGenerator(X_train, y_train)\n",
    "steps_per_epoch = np.ceil(len(X_train)/batch_size)\n",
    "\n",
    "validation_generator = GTZANGenerator(X_test, y_test)\n",
    "val_steps = np.ceil(len(X_test)/batch_size)"
   ]
  },
  {
   "cell_type": "code",
   "execution_count": 19,
   "metadata": {},
   "outputs": [
    {
     "name": "stdout",
     "output_type": "stream",
     "text": [
      "WARNING:tensorflow:From <ipython-input-19-c619abd23725>:1: Model.fit_generator (from tensorflow.python.keras.engine.training) is deprecated and will be removed in a future version.\n",
      "Instructions for updating:\n",
      "Please use Model.fit, which supports generators.\n",
      "Epoch 1/150\n",
      "  1/426 [..............................] - ETA: 0s - loss: 37.8597 - accuracy: 0.1406WARNING:tensorflow:Callbacks method `on_train_batch_end` is slow compared to the batch time (batch time: 0.0080s vs `on_train_batch_end` time: 0.0122s). Check your callbacks.\n",
      "426/426 [==============================] - 9s 20ms/step - loss: 9.8040 - accuracy: 0.6306 - val_loss: 3.1440 - val_accuracy: 0.6977\n",
      "Epoch 2/150\n",
      "426/426 [==============================] - 8s 19ms/step - loss: 1.9493 - accuracy: 0.7648 - val_loss: 1.2800 - val_accuracy: 0.7193\n",
      "Epoch 3/150\n",
      "426/426 [==============================] - 8s 19ms/step - loss: 0.9484 - accuracy: 0.7877 - val_loss: 0.9524 - val_accuracy: 0.5441\n",
      "Epoch 4/150\n",
      "426/426 [==============================] - 8s 19ms/step - loss: 0.7445 - accuracy: 0.7527 - val_loss: 0.6434 - val_accuracy: 0.7656\n",
      "Epoch 5/150\n",
      "426/426 [==============================] - 8s 19ms/step - loss: 0.5766 - accuracy: 0.8083 - val_loss: 0.5196 - val_accuracy: 0.8075\n",
      "Epoch 6/150\n",
      "426/426 [==============================] - 8s 19ms/step - loss: 0.4738 - accuracy: 0.8351 - val_loss: 0.4787 - val_accuracy: 0.8266\n",
      "Epoch 7/150\n",
      "426/426 [==============================] - 8s 19ms/step - loss: 0.4685 - accuracy: 0.8235 - val_loss: 0.5316 - val_accuracy: 0.7966\n",
      "Epoch 8/150\n",
      "426/426 [==============================] - 8s 19ms/step - loss: 0.4938 - accuracy: 0.8228 - val_loss: 0.4452 - val_accuracy: 0.8414\n",
      "Epoch 9/150\n",
      "426/426 [==============================] - 8s 19ms/step - loss: 0.4444 - accuracy: 0.8434 - val_loss: 0.4239 - val_accuracy: 0.8438\n",
      "Epoch 10/150\n",
      "426/426 [==============================] - 8s 19ms/step - loss: 0.4557 - accuracy: 0.8279 - val_loss: 0.4013 - val_accuracy: 0.8469\n",
      "Epoch 11/150\n",
      "426/426 [==============================] - 8s 19ms/step - loss: 0.4605 - accuracy: 0.8375 - val_loss: 0.4159 - val_accuracy: 0.8535\n",
      "Epoch 12/150\n",
      "426/426 [==============================] - 8s 19ms/step - loss: 0.4431 - accuracy: 0.8497 - val_loss: 0.4268 - val_accuracy: 0.8368\n",
      "Epoch 13/150\n",
      "426/426 [==============================] - 8s 19ms/step - loss: 0.3954 - accuracy: 0.8604 - val_loss: 0.4006 - val_accuracy: 0.8502\n",
      "Epoch 14/150\n",
      "426/426 [==============================] - 8s 19ms/step - loss: 0.3549 - accuracy: 0.8718 - val_loss: 0.3697 - val_accuracy: 0.8623\n",
      "Epoch 15/150\n",
      "426/426 [==============================] - 8s 20ms/step - loss: 0.3706 - accuracy: 0.8730 - val_loss: 0.5189 - val_accuracy: 0.8525\n",
      "Epoch 16/150\n",
      "426/426 [==============================] - 8s 19ms/step - loss: 0.3694 - accuracy: 0.8732 - val_loss: 0.3764 - val_accuracy: 0.8641\n",
      "Epoch 17/150\n",
      "424/426 [============================>.] - ETA: 0s - loss: 0.3492 - accuracy: 0.8733\n",
      "Epoch 00017: ReduceLROnPlateau reducing learning rate to 0.0009500000451225787.\n",
      "426/426 [==============================] - 8s 20ms/step - loss: 0.3497 - accuracy: 0.8731 - val_loss: 0.3790 - val_accuracy: 0.8598\n",
      "Epoch 18/150\n",
      "426/426 [==============================] - 8s 20ms/step - loss: 0.3523 - accuracy: 0.8774 - val_loss: 0.4213 - val_accuracy: 0.8428\n",
      "Epoch 19/150\n",
      "426/426 [==============================] - 8s 20ms/step - loss: 0.3305 - accuracy: 0.8790 - val_loss: 0.3981 - val_accuracy: 0.8595\n",
      "Epoch 20/150\n",
      "426/426 [==============================] - 8s 19ms/step - loss: 0.3650 - accuracy: 0.8675 - val_loss: 0.3955 - val_accuracy: 0.8268\n",
      "Epoch 21/150\n",
      "426/426 [==============================] - 8s 19ms/step - loss: 0.3196 - accuracy: 0.8881 - val_loss: 0.3608 - val_accuracy: 0.8697\n",
      "Epoch 22/150\n",
      "426/426 [==============================] - 8s 19ms/step - loss: 0.3360 - accuracy: 0.8846 - val_loss: 0.3453 - val_accuracy: 0.8693\n",
      "Epoch 23/150\n",
      "426/426 [==============================] - 8s 20ms/step - loss: 0.3902 - accuracy: 0.8649 - val_loss: 0.3783 - val_accuracy: 0.8633\n",
      "Epoch 24/150\n",
      "426/426 [==============================] - 8s 20ms/step - loss: 0.3221 - accuracy: 0.8898 - val_loss: 0.3628 - val_accuracy: 0.8719\n",
      "Epoch 25/150\n",
      "426/426 [==============================] - 8s 20ms/step - loss: 0.3032 - accuracy: 0.8959 - val_loss: 0.3400 - val_accuracy: 0.8672\n",
      "Epoch 26/150\n",
      "426/426 [==============================] - 8s 20ms/step - loss: 0.3199 - accuracy: 0.8870 - val_loss: 0.3693 - val_accuracy: 0.8704\n",
      "Epoch 27/150\n",
      "426/426 [==============================] - 8s 20ms/step - loss: 0.3206 - accuracy: 0.8877 - val_loss: 0.3628 - val_accuracy: 0.8518\n",
      "Epoch 28/150\n",
      "425/426 [============================>.] - ETA: 0s - loss: 0.3353 - accuracy: 0.8897\n",
      "Epoch 00028: ReduceLROnPlateau reducing learning rate to 0.0009025000152178108.\n",
      "426/426 [==============================] - 8s 20ms/step - loss: 0.3351 - accuracy: 0.8899 - val_loss: 0.3651 - val_accuracy: 0.8783\n",
      "Epoch 29/150\n",
      "426/426 [==============================] - 8s 19ms/step - loss: 0.3341 - accuracy: 0.8892 - val_loss: 0.3531 - val_accuracy: 0.8703\n",
      "Epoch 30/150\n",
      "426/426 [==============================] - 8s 20ms/step - loss: 0.3213 - accuracy: 0.8930 - val_loss: 0.4003 - val_accuracy: 0.8583\n",
      "Epoch 31/150\n",
      "426/426 [==============================] - 8s 19ms/step - loss: 0.2979 - accuracy: 0.8942 - val_loss: 0.3169 - val_accuracy: 0.8841\n",
      "Epoch 32/150\n",
      "426/426 [==============================] - 8s 20ms/step - loss: 0.3101 - accuracy: 0.8964 - val_loss: 0.3160 - val_accuracy: 0.8777\n",
      "Epoch 33/150\n",
      "426/426 [==============================] - 8s 20ms/step - loss: 0.3013 - accuracy: 0.8912 - val_loss: 0.3048 - val_accuracy: 0.8874\n",
      "Epoch 34/150\n",
      "426/426 [==============================] - 8s 20ms/step - loss: 0.2651 - accuracy: 0.9055 - val_loss: 0.3221 - val_accuracy: 0.8868\n",
      "Epoch 35/150\n",
      "426/426 [==============================] - 8s 20ms/step - loss: 0.2920 - accuracy: 0.8978 - val_loss: 0.3080 - val_accuracy: 0.8800\n",
      "Epoch 36/150\n",
      "425/426 [============================>.] - ETA: 0s - loss: 0.2735 - accuracy: 0.9083\n",
      "Epoch 00036: ReduceLROnPlateau reducing learning rate to 0.0008573750033974647.\n",
      "426/426 [==============================] - 8s 19ms/step - loss: 0.2729 - accuracy: 0.9085 - val_loss: 0.4473 - val_accuracy: 0.8433\n",
      "Epoch 37/150\n",
      "426/426 [==============================] - 8s 19ms/step - loss: 0.3167 - accuracy: 0.8845 - val_loss: 0.4353 - val_accuracy: 0.8242\n",
      "Epoch 38/150\n",
      "426/426 [==============================] - 8s 19ms/step - loss: 0.2727 - accuracy: 0.9058 - val_loss: 0.3483 - val_accuracy: 0.8763\n",
      "Epoch 39/150\n",
      "426/426 [==============================] - 8s 20ms/step - loss: 0.3052 - accuracy: 0.8970 - val_loss: 0.3253 - val_accuracy: 0.8802\n",
      "Epoch 40/150\n",
      "424/426 [============================>.] - ETA: 0s - loss: 0.3141 - accuracy: 0.8944\n",
      "Epoch 00040: ReduceLROnPlateau reducing learning rate to 0.0008145062311086804.\n",
      "426/426 [==============================] - 8s 19ms/step - loss: 0.3134 - accuracy: 0.8947 - val_loss: 0.3255 - val_accuracy: 0.8956\n",
      "Epoch 41/150\n",
      "426/426 [==============================] - 8s 20ms/step - loss: 0.2665 - accuracy: 0.9081 - val_loss: 0.3108 - val_accuracy: 0.8840\n",
      "Epoch 42/150\n",
      "426/426 [==============================] - 8s 19ms/step - loss: 0.2536 - accuracy: 0.9105 - val_loss: 0.3353 - val_accuracy: 0.8782\n",
      "Epoch 43/150\n",
      "426/426 [==============================] - 8s 20ms/step - loss: 0.2793 - accuracy: 0.8986 - val_loss: 0.3007 - val_accuracy: 0.8899\n",
      "Epoch 44/150\n",
      "426/426 [==============================] - 9s 20ms/step - loss: 0.2637 - accuracy: 0.9065 - val_loss: 0.4753 - val_accuracy: 0.8280\n",
      "Epoch 45/150\n",
      "426/426 [==============================] - 8s 20ms/step - loss: 0.2819 - accuracy: 0.9064 - val_loss: 0.3182 - val_accuracy: 0.8858\n",
      "Epoch 46/150\n",
      "424/426 [============================>.] - ETA: 0s - loss: 0.2909 - accuracy: 0.8916\n",
      "Epoch 00046: ReduceLROnPlateau reducing learning rate to 0.0007737808919046074.\n",
      "426/426 [==============================] - 8s 19ms/step - loss: 0.2913 - accuracy: 0.8917 - val_loss: 0.3099 - val_accuracy: 0.8786\n",
      "Epoch 47/150\n",
      "426/426 [==============================] - 8s 19ms/step - loss: 0.2628 - accuracy: 0.9024 - val_loss: 0.2856 - val_accuracy: 0.8983\n",
      "Epoch 48/150\n",
      "426/426 [==============================] - 8s 19ms/step - loss: 0.2597 - accuracy: 0.9067 - val_loss: 0.3293 - val_accuracy: 0.8869\n",
      "Epoch 49/150\n",
      "426/426 [==============================] - 8s 19ms/step - loss: 0.2474 - accuracy: 0.9102 - val_loss: 0.3054 - val_accuracy: 0.8963\n",
      "Epoch 50/150\n",
      "424/426 [============================>.] - ETA: 0s - loss: 0.2505 - accuracy: 0.9106\n",
      "Epoch 00050: ReduceLROnPlateau reducing learning rate to 0.000735091819660738.\n",
      "426/426 [==============================] - 8s 19ms/step - loss: 0.2495 - accuracy: 0.9110 - val_loss: 0.3279 - val_accuracy: 0.8995\n",
      "Epoch 51/150\n",
      "426/426 [==============================] - 8s 19ms/step - loss: 0.2465 - accuracy: 0.9106 - val_loss: 0.3172 - val_accuracy: 0.8881\n",
      "Epoch 52/150\n",
      "426/426 [==============================] - 8s 19ms/step - loss: 0.2617 - accuracy: 0.9094 - val_loss: 0.2992 - val_accuracy: 0.8905\n",
      "Epoch 53/150\n",
      "426/426 [==============================] - 8s 19ms/step - loss: 0.2635 - accuracy: 0.9087 - val_loss: 0.3401 - val_accuracy: 0.8752\n",
      "Epoch 54/150\n",
      "425/426 [============================>.] - ETA: 0s - loss: 0.2626 - accuracy: 0.9086\n",
      "Epoch 00054: ReduceLROnPlateau reducing learning rate to 0.0006983372120885178.\n",
      "426/426 [==============================] - 8s 19ms/step - loss: 0.2637 - accuracy: 0.9078 - val_loss: 0.2885 - val_accuracy: 0.8979\n",
      "Epoch 55/150\n",
      "426/426 [==============================] - 8s 19ms/step - loss: 0.2556 - accuracy: 0.9052 - val_loss: 0.3284 - val_accuracy: 0.8903\n",
      "Epoch 56/150\n",
      "426/426 [==============================] - 8s 19ms/step - loss: 0.2651 - accuracy: 0.9043 - val_loss: 0.2966 - val_accuracy: 0.8908\n",
      "Epoch 57/150\n",
      "426/426 [==============================] - 8s 19ms/step - loss: 0.2423 - accuracy: 0.9138 - val_loss: 0.3751 - val_accuracy: 0.8606\n",
      "Epoch 58/150\n",
      "426/426 [==============================] - 8s 19ms/step - loss: 0.2452 - accuracy: 0.9139 - val_loss: 0.2840 - val_accuracy: 0.8969\n",
      "Epoch 59/150\n",
      "426/426 [==============================] - 8s 19ms/step - loss: 0.2347 - accuracy: 0.9193 - val_loss: 0.2874 - val_accuracy: 0.8966\n",
      "Epoch 60/150\n",
      "426/426 [==============================] - 8s 19ms/step - loss: 0.2589 - accuracy: 0.9079 - val_loss: 0.2852 - val_accuracy: 0.8969\n",
      "Epoch 61/150\n",
      "424/426 [============================>.] - ETA: 0s - loss: 0.2292 - accuracy: 0.9181\n",
      "Epoch 00061: ReduceLROnPlateau reducing learning rate to 0.0006634203542489559.\n",
      "426/426 [==============================] - 8s 19ms/step - loss: 0.2289 - accuracy: 0.9183 - val_loss: 0.3140 - val_accuracy: 0.8820\n",
      "Epoch 62/150\n",
      "426/426 [==============================] - 8s 19ms/step - loss: 0.2381 - accuracy: 0.9185 - val_loss: 0.3287 - val_accuracy: 0.8871\n",
      "Epoch 63/150\n",
      "426/426 [==============================] - 8s 19ms/step - loss: 0.2443 - accuracy: 0.9165 - val_loss: 0.3081 - val_accuracy: 0.8902\n",
      "Epoch 64/150\n",
      "426/426 [==============================] - 8s 19ms/step - loss: 0.2396 - accuracy: 0.9113 - val_loss: 0.3012 - val_accuracy: 0.8893\n",
      "Epoch 65/150\n",
      "425/426 [============================>.] - ETA: 0s - loss: 0.2371 - accuracy: 0.9144\n",
      "Epoch 00065: ReduceLROnPlateau reducing learning rate to 0.0006302493420662358.\n",
      "426/426 [==============================] - 8s 19ms/step - loss: 0.2366 - accuracy: 0.9146 - val_loss: 0.2946 - val_accuracy: 0.8945\n",
      "Epoch 66/150\n",
      "426/426 [==============================] - 8s 19ms/step - loss: 0.2252 - accuracy: 0.9258 - val_loss: 0.2983 - val_accuracy: 0.8969\n",
      "Epoch 67/150\n",
      "426/426 [==============================] - 8s 19ms/step - loss: 0.2325 - accuracy: 0.9156 - val_loss: 0.3575 - val_accuracy: 0.8812\n",
      "Epoch 68/150\n",
      "426/426 [==============================] - 8s 19ms/step - loss: 0.2423 - accuracy: 0.9104 - val_loss: 0.2994 - val_accuracy: 0.8936\n",
      "Epoch 69/150\n",
      "425/426 [============================>.] - ETA: 0s - loss: 0.2316 - accuracy: 0.9136\n",
      "Epoch 00069: ReduceLROnPlateau reducing learning rate to 0.0005987368611386045.\n",
      "426/426 [==============================] - 8s 19ms/step - loss: 0.2314 - accuracy: 0.9137 - val_loss: 0.3417 - val_accuracy: 0.8871\n",
      "Epoch 70/150\n",
      "426/426 [==============================] - 8s 19ms/step - loss: 0.2525 - accuracy: 0.9103 - val_loss: 0.2858 - val_accuracy: 0.8962\n",
      "Epoch 71/150\n",
      "426/426 [==============================] - 8s 19ms/step - loss: 0.2221 - accuracy: 0.9206 - val_loss: 0.3415 - val_accuracy: 0.8911\n",
      "Epoch 72/150\n",
      "426/426 [==============================] - 8s 19ms/step - loss: 0.2043 - accuracy: 0.9284 - val_loss: 0.3196 - val_accuracy: 0.8812\n",
      "Epoch 73/150\n",
      "425/426 [============================>.] - ETA: 0s - loss: 0.2334 - accuracy: 0.9200\n",
      "Epoch 00073: ReduceLROnPlateau reducing learning rate to 0.0005688000208465382.\n",
      "426/426 [==============================] - 8s 19ms/step - loss: 0.2340 - accuracy: 0.9196 - val_loss: 0.3553 - val_accuracy: 0.8655\n",
      "Epoch 74/150\n",
      "426/426 [==============================] - 8s 19ms/step - loss: 0.2337 - accuracy: 0.9146 - val_loss: 0.2760 - val_accuracy: 0.8981\n",
      "Epoch 75/150\n",
      "426/426 [==============================] - 8s 19ms/step - loss: 0.2197 - accuracy: 0.9252 - val_loss: 0.2775 - val_accuracy: 0.9005\n",
      "Epoch 76/150\n",
      "426/426 [==============================] - 8s 19ms/step - loss: 0.2097 - accuracy: 0.9247 - val_loss: 0.2736 - val_accuracy: 0.8988\n",
      "Epoch 77/150\n",
      "426/426 [==============================] - 8s 19ms/step - loss: 0.2083 - accuracy: 0.9279 - val_loss: 0.3058 - val_accuracy: 0.8903\n",
      "Epoch 78/150\n",
      "426/426 [==============================] - 8s 19ms/step - loss: 0.2248 - accuracy: 0.9193 - val_loss: 0.3532 - val_accuracy: 0.8709\n",
      "Epoch 79/150\n",
      "425/426 [============================>.] - ETA: 0s - loss: 0.2113 - accuracy: 0.9264\n",
      "Epoch 00079: ReduceLROnPlateau reducing learning rate to 0.0005403600225690752.\n",
      "426/426 [==============================] - 8s 19ms/step - loss: 0.2116 - accuracy: 0.9263 - val_loss: 0.2737 - val_accuracy: 0.9001\n",
      "Epoch 80/150\n",
      "426/426 [==============================] - 8s 19ms/step - loss: 0.2237 - accuracy: 0.9169 - val_loss: 0.3272 - val_accuracy: 0.8911\n",
      "Epoch 81/150\n",
      "426/426 [==============================] - 8s 19ms/step - loss: 0.2157 - accuracy: 0.9241 - val_loss: 0.3285 - val_accuracy: 0.8882\n",
      "Epoch 82/150\n",
      "426/426 [==============================] - 8s 19ms/step - loss: 0.2225 - accuracy: 0.9211 - val_loss: 0.2927 - val_accuracy: 0.8980\n",
      "Epoch 83/150\n",
      "426/426 [==============================] - 8s 19ms/step - loss: 0.2105 - accuracy: 0.9258 - val_loss: 0.2701 - val_accuracy: 0.9002\n",
      "Epoch 84/150\n",
      "426/426 [==============================] - 8s 19ms/step - loss: 0.2072 - accuracy: 0.9230 - val_loss: 0.2837 - val_accuracy: 0.8957\n",
      "Epoch 85/150\n",
      "426/426 [==============================] - 8s 19ms/step - loss: 0.2250 - accuracy: 0.9187 - val_loss: 0.3540 - val_accuracy: 0.8704\n",
      "Epoch 86/150\n",
      "424/426 [============================>.] - ETA: 0s - loss: 0.1987 - accuracy: 0.9302\n",
      "Epoch 00086: ReduceLROnPlateau reducing learning rate to 0.0005133419937919825.\n",
      "426/426 [==============================] - 8s 19ms/step - loss: 0.1986 - accuracy: 0.9304 - val_loss: 0.2966 - val_accuracy: 0.9004\n",
      "Epoch 87/150\n",
      "426/426 [==============================] - 8s 19ms/step - loss: 0.2250 - accuracy: 0.9177 - val_loss: 0.2819 - val_accuracy: 0.9010\n",
      "Epoch 88/150\n",
      "426/426 [==============================] - 8s 19ms/step - loss: 0.1951 - accuracy: 0.9298 - val_loss: 0.2711 - val_accuracy: 0.9003\n",
      "Epoch 89/150\n",
      "426/426 [==============================] - 8s 19ms/step - loss: 0.2051 - accuracy: 0.9267 - val_loss: 0.2872 - val_accuracy: 0.9012\n",
      "Epoch 90/150\n",
      "426/426 [==============================] - ETA: 0s - loss: 0.2099 - accuracy: 0.9223\n",
      "Epoch 00090: ReduceLROnPlateau reducing learning rate to 0.0004876748775132.\n",
      "426/426 [==============================] - 8s 19ms/step - loss: 0.2099 - accuracy: 0.9223 - val_loss: 0.2818 - val_accuracy: 0.8952\n",
      "Epoch 91/150\n",
      "426/426 [==============================] - 8s 19ms/step - loss: 0.1963 - accuracy: 0.9332 - val_loss: 0.2862 - val_accuracy: 0.8992\n",
      "Epoch 92/150\n",
      "426/426 [==============================] - 8s 19ms/step - loss: 0.2093 - accuracy: 0.9272 - val_loss: 0.2708 - val_accuracy: 0.9082\n",
      "Epoch 93/150\n",
      "426/426 [==============================] - 8s 19ms/step - loss: 0.2079 - accuracy: 0.9266 - val_loss: 0.3214 - val_accuracy: 0.8798\n",
      "Epoch 94/150\n"
     ]
    },
    {
     "name": "stdout",
     "output_type": "stream",
     "text": [
      "425/426 [============================>.] - ETA: 0s - loss: 0.1954 - accuracy: 0.9301\n",
      "Epoch 00094: ReduceLROnPlateau reducing learning rate to 0.00046329112810781223.\n",
      "426/426 [==============================] - 8s 19ms/step - loss: 0.1952 - accuracy: 0.9302 - val_loss: 0.2903 - val_accuracy: 0.8995\n",
      "Epoch 95/150\n",
      "426/426 [==============================] - 8s 19ms/step - loss: 0.2081 - accuracy: 0.9215 - val_loss: 0.2870 - val_accuracy: 0.8935\n",
      "Epoch 96/150\n",
      "426/426 [==============================] - 8s 19ms/step - loss: 0.2009 - accuracy: 0.9289 - val_loss: 0.3230 - val_accuracy: 0.8902\n",
      "Epoch 97/150\n",
      "426/426 [==============================] - 8s 19ms/step - loss: 0.2058 - accuracy: 0.9266 - val_loss: 0.2921 - val_accuracy: 0.8975\n",
      "Epoch 98/150\n",
      "425/426 [============================>.] - ETA: 0s - loss: 0.2078 - accuracy: 0.9234\n",
      "Epoch 00098: ReduceLROnPlateau reducing learning rate to 0.00044012657308485355.\n",
      "426/426 [==============================] - 8s 19ms/step - loss: 0.2076 - accuracy: 0.9236 - val_loss: 0.2842 - val_accuracy: 0.8955\n",
      "Epoch 99/150\n",
      "426/426 [==============================] - 8s 19ms/step - loss: 0.2063 - accuracy: 0.9253 - val_loss: 0.3024 - val_accuracy: 0.9032\n",
      "Epoch 100/150\n",
      "426/426 [==============================] - 8s 19ms/step - loss: 0.2010 - accuracy: 0.9278 - val_loss: 0.4187 - val_accuracy: 0.8786\n",
      "Epoch 101/150\n",
      "426/426 [==============================] - 8s 19ms/step - loss: 0.2132 - accuracy: 0.9221 - val_loss: 0.2671 - val_accuracy: 0.9000\n",
      "Epoch 102/150\n",
      "426/426 [==============================] - 8s 19ms/step - loss: 0.2010 - accuracy: 0.9234 - val_loss: 0.2756 - val_accuracy: 0.9029\n",
      "Epoch 103/150\n",
      "426/426 [==============================] - 8s 19ms/step - loss: 0.1931 - accuracy: 0.9312 - val_loss: 0.2954 - val_accuracy: 0.8955\n",
      "Epoch 104/150\n",
      "425/426 [============================>.] - ETA: 0s - loss: 0.1995 - accuracy: 0.9306\n",
      "Epoch 00104: ReduceLROnPlateau reducing learning rate to 0.00041812024719547477.\n",
      "426/426 [==============================] - 8s 19ms/step - loss: 0.2012 - accuracy: 0.9298 - val_loss: 0.2882 - val_accuracy: 0.8940\n",
      "Epoch 105/150\n",
      "426/426 [==============================] - 8s 19ms/step - loss: 0.1907 - accuracy: 0.9353 - val_loss: 0.2640 - val_accuracy: 0.9020\n",
      "Epoch 106/150\n",
      "426/426 [==============================] - 8s 19ms/step - loss: 0.1822 - accuracy: 0.9357 - val_loss: 0.2897 - val_accuracy: 0.9000\n",
      "Epoch 107/150\n",
      "426/426 [==============================] - 8s 19ms/step - loss: 0.1903 - accuracy: 0.9343 - val_loss: 0.2806 - val_accuracy: 0.9019\n",
      "Epoch 108/150\n",
      "424/426 [============================>.] - ETA: 0s - loss: 0.1823 - accuracy: 0.9341\n",
      "Epoch 00108: ReduceLROnPlateau reducing learning rate to 0.00039721422654110934.\n",
      "426/426 [==============================] - 8s 19ms/step - loss: 0.1817 - accuracy: 0.9344 - val_loss: 0.3008 - val_accuracy: 0.8975\n",
      "Epoch 109/150\n",
      "426/426 [==============================] - 8s 19ms/step - loss: 0.1857 - accuracy: 0.9342 - val_loss: 0.2930 - val_accuracy: 0.8940\n",
      "Epoch 110/150\n",
      "426/426 [==============================] - 8s 19ms/step - loss: 0.1827 - accuracy: 0.9361 - val_loss: 0.2898 - val_accuracy: 0.9033\n",
      "Epoch 111/150\n",
      "426/426 [==============================] - 8s 19ms/step - loss: 0.1983 - accuracy: 0.9285 - val_loss: 0.2853 - val_accuracy: 0.9025\n",
      "Epoch 112/150\n",
      "425/426 [============================>.] - ETA: 0s - loss: 0.1901 - accuracy: 0.9336\n",
      "Epoch 00112: ReduceLROnPlateau reducing learning rate to 0.00037735351797891776.\n",
      "426/426 [==============================] - 8s 19ms/step - loss: 0.1897 - accuracy: 0.9338 - val_loss: 0.2764 - val_accuracy: 0.9011\n",
      "Epoch 113/150\n",
      "426/426 [==============================] - 8s 19ms/step - loss: 0.1905 - accuracy: 0.9333 - val_loss: 0.2738 - val_accuracy: 0.9051\n",
      "Epoch 114/150\n",
      "426/426 [==============================] - 8s 19ms/step - loss: 0.1772 - accuracy: 0.9384 - val_loss: 0.2875 - val_accuracy: 0.9015\n",
      "Epoch 115/150\n",
      "426/426 [==============================] - 8s 19ms/step - loss: 0.1830 - accuracy: 0.9350 - val_loss: 0.2828 - val_accuracy: 0.9037\n",
      "Epoch 116/150\n",
      "426/426 [==============================] - ETA: 0s - loss: 0.1875 - accuracy: 0.9328\n",
      "Epoch 00116: ReduceLROnPlateau reducing learning rate to 0.00035848583793267607.\n",
      "426/426 [==============================] - 8s 19ms/step - loss: 0.1875 - accuracy: 0.9328 - val_loss: 0.2897 - val_accuracy: 0.8954\n",
      "Epoch 117/150\n",
      "426/426 [==============================] - 8s 19ms/step - loss: 0.1882 - accuracy: 0.9324 - val_loss: 0.2869 - val_accuracy: 0.9015\n",
      "Epoch 118/150\n",
      "426/426 [==============================] - 8s 19ms/step - loss: 0.1827 - accuracy: 0.9352 - val_loss: 0.2955 - val_accuracy: 0.9010\n",
      "Epoch 119/150\n",
      "426/426 [==============================] - 8s 19ms/step - loss: 0.1872 - accuracy: 0.9327 - val_loss: 0.2817 - val_accuracy: 0.9002\n",
      "Epoch 120/150\n",
      "426/426 [==============================] - ETA: 0s - loss: 0.1769 - accuracy: 0.9382\n",
      "Epoch 00120: ReduceLROnPlateau reducing learning rate to 0.00034056155709549785.\n",
      "426/426 [==============================] - 8s 19ms/step - loss: 0.1769 - accuracy: 0.9382 - val_loss: 0.2746 - val_accuracy: 0.9066\n",
      "Epoch 121/150\n",
      "426/426 [==============================] - 8s 19ms/step - loss: 0.1803 - accuracy: 0.9358 - val_loss: 0.2869 - val_accuracy: 0.9028\n",
      "Epoch 122/150\n",
      "426/426 [==============================] - 8s 19ms/step - loss: 0.1706 - accuracy: 0.9377 - val_loss: 0.2927 - val_accuracy: 0.9015\n",
      "Epoch 123/150\n",
      "426/426 [==============================] - 8s 19ms/step - loss: 0.1853 - accuracy: 0.9345 - val_loss: 0.2992 - val_accuracy: 0.9014\n",
      "Epoch 124/150\n",
      "425/426 [============================>.] - ETA: 0s - loss: 0.1674 - accuracy: 0.9395\n",
      "Epoch 00124: ReduceLROnPlateau reducing learning rate to 0.00032353347924072293.\n",
      "426/426 [==============================] - 8s 19ms/step - loss: 0.1673 - accuracy: 0.9397 - val_loss: 0.2842 - val_accuracy: 0.9041\n",
      "Epoch 125/150\n",
      "426/426 [==============================] - 8s 19ms/step - loss: 0.1646 - accuracy: 0.9417 - val_loss: 0.2880 - val_accuracy: 0.9009\n",
      "Epoch 126/150\n",
      "426/426 [==============================] - 8s 19ms/step - loss: 0.1739 - accuracy: 0.9416 - val_loss: 0.2691 - val_accuracy: 0.9050\n",
      "Epoch 127/150\n",
      "426/426 [==============================] - 8s 19ms/step - loss: 0.1781 - accuracy: 0.9351 - val_loss: 0.3684 - val_accuracy: 0.8864\n",
      "Epoch 128/150\n",
      "425/426 [============================>.] - ETA: 0s - loss: 0.1823 - accuracy: 0.9351\n",
      "Epoch 00128: ReduceLROnPlateau reducing learning rate to 0.00030735681357327847.\n",
      "426/426 [==============================] - 8s 19ms/step - loss: 0.1826 - accuracy: 0.9350 - val_loss: 0.2834 - val_accuracy: 0.8969\n",
      "Epoch 129/150\n",
      "426/426 [==============================] - 8s 19ms/step - loss: 0.1649 - accuracy: 0.9415 - val_loss: 0.2906 - val_accuracy: 0.9022\n",
      "Epoch 130/150\n",
      "426/426 [==============================] - 8s 19ms/step - loss: 0.1721 - accuracy: 0.9371 - val_loss: 0.2999 - val_accuracy: 0.9058\n",
      "Epoch 131/150\n",
      "426/426 [==============================] - 8s 19ms/step - loss: 0.1670 - accuracy: 0.9420 - val_loss: 0.2966 - val_accuracy: 0.9008\n",
      "Epoch 132/150\n",
      "425/426 [============================>.] - ETA: 0s - loss: 0.1714 - accuracy: 0.9398\n",
      "Epoch 00132: ReduceLROnPlateau reducing learning rate to 0.00029198898118920624.\n",
      "426/426 [==============================] - 8s 19ms/step - loss: 0.1710 - accuracy: 0.9399 - val_loss: 0.2651 - val_accuracy: 0.9036\n",
      "Epoch 133/150\n",
      "426/426 [==============================] - 8s 19ms/step - loss: 0.1687 - accuracy: 0.9413 - val_loss: 0.2758 - val_accuracy: 0.9028\n",
      "Epoch 134/150\n",
      "426/426 [==============================] - 8s 19ms/step - loss: 0.1658 - accuracy: 0.9403 - val_loss: 0.2821 - val_accuracy: 0.9009\n",
      "Epoch 135/150\n",
      "426/426 [==============================] - 8s 19ms/step - loss: 0.1835 - accuracy: 0.9327 - val_loss: 0.2773 - val_accuracy: 0.8981\n",
      "Epoch 136/150\n",
      "425/426 [============================>.] - ETA: 0s - loss: 0.1759 - accuracy: 0.9365\n",
      "Epoch 00136: ReduceLROnPlateau reducing learning rate to 0.00027738953212974593.\n",
      "426/426 [==============================] - 8s 19ms/step - loss: 0.1757 - accuracy: 0.9366 - val_loss: 0.2924 - val_accuracy: 0.8974\n",
      "Epoch 137/150\n",
      "426/426 [==============================] - 8s 19ms/step - loss: 0.1640 - accuracy: 0.9418 - val_loss: 0.2916 - val_accuracy: 0.9009\n"
     ]
    },
    {
     "name": "stdout",
     "output_type": "stream",
     "text": [
      "Epoch 138/150\n",
      "426/426 [==============================] - 8s 19ms/step - loss: 0.1877 - accuracy: 0.9332 - val_loss: 0.2831 - val_accuracy: 0.8983\n",
      "Epoch 139/150\n",
      "426/426 [==============================] - 8s 19ms/step - loss: 0.1707 - accuracy: 0.9366 - val_loss: 0.3088 - val_accuracy: 0.8989\n",
      "Epoch 140/150\n",
      "426/426 [==============================] - ETA: 0s - loss: 0.1657 - accuracy: 0.9427\n",
      "Epoch 00140: ReduceLROnPlateau reducing learning rate to 0.0002635200624354184.\n",
      "426/426 [==============================] - 8s 19ms/step - loss: 0.1657 - accuracy: 0.9427 - val_loss: 0.3358 - val_accuracy: 0.8830\n",
      "Epoch 141/150\n",
      "426/426 [==============================] - 8s 19ms/step - loss: 0.1657 - accuracy: 0.9376 - val_loss: 0.2954 - val_accuracy: 0.9051\n",
      "Epoch 142/150\n",
      "426/426 [==============================] - 8s 19ms/step - loss: 0.1617 - accuracy: 0.9440 - val_loss: 0.3030 - val_accuracy: 0.9027\n",
      "Epoch 143/150\n",
      "426/426 [==============================] - 8s 19ms/step - loss: 0.1652 - accuracy: 0.9403 - val_loss: 0.2798 - val_accuracy: 0.9016\n",
      "Epoch 144/150\n",
      "425/426 [============================>.] - ETA: 0s - loss: 0.1632 - accuracy: 0.9409\n",
      "Epoch 00144: ReduceLROnPlateau reducing learning rate to 0.0002503440482541919.\n",
      "426/426 [==============================] - 8s 19ms/step - loss: 0.1629 - accuracy: 0.9411 - val_loss: 0.2810 - val_accuracy: 0.9052\n",
      "Epoch 145/150\n",
      "426/426 [==============================] - 8s 19ms/step - loss: 0.1617 - accuracy: 0.9429 - val_loss: 0.3061 - val_accuracy: 0.9026\n",
      "Epoch 146/150\n",
      "426/426 [==============================] - 8s 19ms/step - loss: 0.1660 - accuracy: 0.9408 - val_loss: 0.2845 - val_accuracy: 0.8963\n",
      "Epoch 147/150\n",
      "426/426 [==============================] - 8s 19ms/step - loss: 0.1769 - accuracy: 0.9331 - val_loss: 0.2624 - val_accuracy: 0.9030\n",
      "Epoch 148/150\n",
      "426/426 [==============================] - 8s 19ms/step - loss: 0.1802 - accuracy: 0.9359 - val_loss: 0.2835 - val_accuracy: 0.9000\n",
      "Epoch 149/150\n",
      "426/426 [==============================] - 8s 19ms/step - loss: 0.1571 - accuracy: 0.9441 - val_loss: 0.2821 - val_accuracy: 0.9005\n",
      "Epoch 150/150\n",
      "425/426 [============================>.] - ETA: 0s - loss: 0.1642 - accuracy: 0.9416\n",
      "Epoch 00150: ReduceLROnPlateau reducing learning rate to 0.00023782684584148226.\n",
      "426/426 [==============================] - 8s 19ms/step - loss: 0.1653 - accuracy: 0.9410 - val_loss: 0.2927 - val_accuracy: 0.9022\n"
     ]
    }
   ],
   "source": [
    "hist = model.fit_generator(\n",
    "    train_generator,\n",
    "    steps_per_epoch=steps_per_epoch,\n",
    "    validation_data=validation_generator,\n",
    "    validation_steps=val_steps,\n",
    "    epochs=150,\n",
    "    verbose=1,\n",
    "    callbacks=[reduceLROnPlat])"
   ]
  },
  {
   "cell_type": "code",
   "execution_count": 20,
   "metadata": {},
   "outputs": [
    {
     "name": "stdout",
     "output_type": "stream",
     "text": [
      "val_loss = 0.267 and val_acc = 0.916\n"
     ]
    }
   ],
   "source": [
    "score = model.evaluate(X_test, y_test, verbose=0)\n",
    "print(\"val_loss = {:.3f} and val_acc = {:.3f}\".format(score[0], score[1]))"
   ]
  },
  {
   "cell_type": "code",
   "execution_count": 21,
   "metadata": {},
   "outputs": [
    {
     "data": {
      "image/png": "[encoded data removed]",
      "text/plain": [
       "<Figure size 1080x504 with 2 Axes>"
      ]
     },
     "metadata": {
      "needs_background": "light"
     },
     "output_type": "display_data"
    }
   ],
   "source": [
    "plt.figure(figsize=(15,7))\n",
    "\n",
    "plt.subplot(1,2,1)\n",
    "plt.plot(hist.history['accuracy'], label='train')\n",
    "plt.plot(hist.history['val_accuracy'], label='validation')\n",
    "plt.title('Accuracy')\n",
    "plt.xlabel('Epochs')\n",
    "plt.ylabel('Accuracy')\n",
    "plt.legend()\n",
    "\n",
    "plt.subplot(1,2,2)\n",
    "plt.plot(hist.history['loss'], label='train')\n",
    "plt.plot(hist.history['val_loss'], label='validation')\n",
    "plt.title('Loss')\n",
    "plt.xlabel('Epochs')\n",
    "plt.ylabel('Loss')\n",
    "plt.legend()\n",
    "\n",
    "plt.tight_layout()\n",
    "plt.show()"
   ]
  },
  {
   "cell_type": "code",
   "execution_count": 22,
   "metadata": {},
   "outputs": [],
   "source": [
    "#http://scikit-learn.org/stable/auto_examples/model_selection/plot_confusion_matrix.html\n",
    "def plot_confusion_matrix(cm, classes,\n",
    "                          normalize=False,\n",
    "                          title='Confusion matrix',\n",
    "                          cmap=plt.cm.Blues):\n",
    "    \"\"\"\n",
    "    This function prints and plots the confusion matrix.\n",
    "    Normalization can be applied by setting `normalize=True`.\n",
    "    \"\"\"\n",
    "    if normalize:\n",
    "        cm = cm.astype('float') / cm.sum(axis=1)[:, np.newaxis]\n",
    "        print(\"Normalized confusion matrix\")\n",
    "    else:\n",
    "        print('Confusion matrix, without normalization')\n",
    "\n",
    "    plt.imshow(cm, interpolation='nearest', cmap=cmap)\n",
    "    plt.title(title)\n",
    "    plt.colorbar()\n",
    "    tick_marks = np.arange(len(classes))\n",
    "    plt.xticks(tick_marks, classes, rotation=45)\n",
    "    plt.yticks(tick_marks, classes)\n",
    "\n",
    "    fmt = '.2f' if normalize else 'd'\n",
    "    thresh = cm.max() / 2.\n",
    "    for i, j in itertools.product(range(cm.shape[0]), range(cm.shape[1])):\n",
    "        plt.text(j, i, format(cm[i, j], fmt),\n",
    "                 horizontalalignment=\"center\",\n",
    "                 color=\"white\" if cm[i, j] > thresh else \"black\")\n",
    "\n",
    "    plt.tight_layout()\n",
    "    plt.ylabel('True label')\n",
    "    plt.xlabel('Predicted label')"
   ]
  },
  {
   "cell_type": "code",
   "execution_count": 23,
   "metadata": {},
   "outputs": [],
   "source": [
    "preds = np.argmax(model.predict(X_test), axis = 1)\n",
    "y_orig = np.argmax(y_test, axis = 1)\n",
    "cm = confusion_matrix(preds, y_orig)"
   ]
  },
  {
   "cell_type": "code",
   "execution_count": 24,
   "metadata": {},
   "outputs": [
    {
     "name": "stdout",
     "output_type": "stream",
     "text": [
      "Normalized confusion matrix\n"
     ]
    },
    {
     "data": {
      "image/png": "[encoded data removed]",
      "text/plain": [
       "<Figure size 720x720 with 2 Axes>"
      ]
     },
     "metadata": {
      "needs_background": "light"
     },
     "output_type": "display_data"
    }
   ],
   "source": [
    "keys = OrderedDict(sorted(genres.items(), key=lambda t: t[1])).keys()\n",
    "\n",
    "plt.figure(figsize=(10,10))\n",
    "plot_confusion_matrix(cm, keys, normalize=True)"
   ]
  },
  {
   "cell_type": "markdown",
   "metadata": {},
   "source": [
    "## Majority Vote"
   ]
  },
  {
   "cell_type": "code",
   "execution_count": 25,
   "metadata": {},
   "outputs": [],
   "source": [
    "def majority_vote(scores):\n",
    "    values, counts = np.unique(scores,return_counts=True)\n",
    "    ind = np.argmax(counts)\n",
    "    return values[ind]"
   ]
  },
  {
   "cell_type": "code",
   "execution_count": 26,
   "metadata": {},
   "outputs": [],
   "source": [
    "preds = model.predict(X_test, batch_size=128, verbose=0)"
   ]
  },
  {
   "cell_type": "code",
   "execution_count": 27,
   "metadata": {},
   "outputs": [],
   "source": [
    "div = int(y_test.shape[0]/39)\n",
    "# Each sound was divided into 39 segments in our custom function\n",
    "scores_songs = np.split(np.argmax(preds, axis=1), div)\n",
    "scores_songs = [majority_vote(scores) for scores in scores_songs]"
   ]
  },
  {
   "cell_type": "code",
   "execution_count": 28,
   "metadata": {},
   "outputs": [],
   "source": [
    "# Same analysis for split\n",
    "label = np.split(np.argmax(y_test, axis=1), div)\n",
    "label = [majority_vote(l) for l in label]"
   ]
  },
  {
   "cell_type": "code",
   "execution_count": 29,
   "metadata": {},
   "outputs": [
    {
     "name": "stdout",
     "output_type": "stream",
     "text": [
      "majority voting system (acc) = 0.940\n"
     ]
    }
   ],
   "source": [
    "from sklearn.metrics import accuracy_score\n",
    "\n",
    "print(\"majority voting system (acc) = {:.3f}\".format(accuracy_score(label, scores_songs)))"
   ]
  },
  {
   "cell_type": "markdown",
   "metadata": {},
   "source": [
    "## Save the model"
   ]
  },
  {
   "cell_type": "code",
   "execution_count": 30,
   "metadata": {},
   "outputs": [],
   "source": [
    "# Save the model\n",
    "model.save('../models/custom_cnn_2d.h5')"
   ]
  }
 ],
 "metadata": {
  "kernelspec": {
   "display_name": "Python 3",
   "language": "python",
   "name": "python3"
  },
  "language_info": {
   "codemirror_mode": {
    "name": "ipython",
    "version": 3
   },
   "file_extension": ".py",
   "mimetype": "text/x-python",
   "name": "python",
   "nbconvert_exporter": "python",
   "pygments_lexer": "ipython3",
   "version": "3.8.2"
  }
 },
 "nbformat": 4,
 "nbformat_minor": 2
}
